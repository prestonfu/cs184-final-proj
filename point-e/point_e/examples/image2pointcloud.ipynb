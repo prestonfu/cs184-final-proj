{
 "cells": [
  {
   "cell_type": "code",
   "execution_count": null,
   "metadata": {},
   "outputs": [],
   "source": [
    "import os\n",
    "import os.path as osp\n",
    "import subprocess\n",
    "\n",
    "from PIL import Image\n",
    "import torch\n",
    "from tqdm.auto import tqdm\n",
    "\n",
    "import numpy as np\n",
    "import pandas as pd\n",
    "import matplotlib.pyplot as plt\n",
    "from urllib.request import urlretrieve\n",
    "from urllib.error import HTTPError\n",
    "\n",
    "from point_e.diffusion.configs import DIFFUSION_CONFIGS, diffusion_from_config\n",
    "from point_e.diffusion.sampler import PointCloudSampler\n",
    "from point_e.models.download import load_checkpoint\n",
    "from point_e.models.configs import MODEL_CONFIGS, model_from_config\n",
    "from point_e.util.plotting import plot_point_cloud\n",
    "\n",
    "originals_folder = 'images/original'\n",
    "postprocessed_folder = 'images/postprocessed'\n",
    "pc_img_folder = 'images/pc/img'\n",
    "pc_npy_folder = 'images/pc/npy'\n",
    "os.makedirs(originals_folder, exist_ok=True)\n",
    "os.makedirs(postprocessed_folder, exist_ok=True)\n",
    "os.makedirs(pc_img_folder, exist_ok=True)\n",
    "os.makedirs(pc_npy_folder, exist_ok=True)"
   ]
  },
  {
   "cell_type": "markdown",
   "metadata": {},
   "source": [
    "Collect images with url's I've manually collected"
   ]
  },
  {
   "cell_type": "code",
   "execution_count": null,
   "metadata": {},
   "outputs": [],
   "source": [
    "web_images = pd.read_csv('web_images.csv')\n",
    "\n",
    "for i, row in tqdm(list(web_images.iterrows())):\n",
    "    prompt, url = row['prompt'], row['url']\n",
    "    prompt = prompt.strip()\n",
    "    try:\n",
    "        urlretrieve(url, os.path.join(originals_folder, f\"{prompt.lower().replace(' ', '_')}.png\"))\n",
    "    except HTTPError:\n",
    "        print(f'Could not retrieve {prompt} from {url}')"
   ]
  },
  {
   "cell_type": "markdown",
   "metadata": {},
   "source": [
    "Preprocess images"
   ]
  },
  {
   "cell_type": "code",
   "execution_count": null,
   "metadata": {},
   "outputs": [],
   "source": [
    "for image_name in tqdm(os.listdir(originals_folder)):\n",
    "    # Recrop\n",
    "    image = Image.open(osp.join(originals_folder, image_name))\n",
    "    width, height = image.size\n",
    "    square_size = int(1.2 * max(width, height))\n",
    "    new_image = Image.new(\"RGB\", (square_size, square_size), color=\"white\")\n",
    "\n",
    "    x = (square_size - width) // 2\n",
    "    y = (square_size - height) // 2\n",
    "    new_image.paste(image, (x, y))\n",
    "\n",
    "    # Make background transparent\n",
    "    tmp_path = osp.join(postprocessed_folder, f'tmp_{image_name}')\n",
    "    final_path = osp.join(postprocessed_folder, f'{image_name}')\n",
    "    resized_image = new_image.resize((256, 256), Image.LANCZOS)\n",
    "    resized_image.save(tmp_path)\n",
    "    result = subprocess.run(\n",
    "        ['backgroundremover', '-i', f'{tmp_path}', '-o', f'{final_path}'],\n",
    "        capture_output=True,\n",
    "        text=True\n",
    "    )\n",
    "    if result.stderr:\n",
    "        print(result.stderr)\n",
    "    \n",
    "    # Add back white background\n",
    "    image = Image.open(final_path)\n",
    "    background = Image.new(\"RGB\", image.size, (255, 255, 255))\n",
    "    background.paste(image, mask=image.split()[3])  # 3 is the alpha channel\n",
    "    background.save(final_path)\n",
    "    os.remove(tmp_path)"
   ]
  },
  {
   "cell_type": "markdown",
   "metadata": {},
   "source": [
    "Generate point clouds"
   ]
  },
  {
   "cell_type": "code",
   "execution_count": null,
   "metadata": {},
   "outputs": [],
   "source": [
    "device = torch.device('cuda:6' if torch.cuda.is_available() else 'cpu')\n",
    "\n",
    "print('creating base model...')\n",
    "base_name = 'base300M' # use base300M or base1B for better results\n",
    "base_model = model_from_config(MODEL_CONFIGS[base_name], device)\n",
    "base_model.eval()\n",
    "base_diffusion = diffusion_from_config(DIFFUSION_CONFIGS[base_name])\n",
    "\n",
    "print('creating upsample model...')\n",
    "upsampler_model = model_from_config(MODEL_CONFIGS['upsample'], device)\n",
    "upsampler_model.eval()\n",
    "upsampler_diffusion = diffusion_from_config(DIFFUSION_CONFIGS['upsample'])\n",
    "\n",
    "print('downloading base checkpoint...')\n",
    "base_model.load_state_dict(load_checkpoint(base_name, device))\n",
    "\n",
    "print('downloading upsampler checkpoint...')\n",
    "upsampler_model.load_state_dict(load_checkpoint('upsample', device))"
   ]
  },
  {
   "cell_type": "code",
   "execution_count": null,
   "metadata": {},
   "outputs": [],
   "source": [
    "sampler = PointCloudSampler(\n",
    "    device=device,\n",
    "    models=[base_model, upsampler_model],\n",
    "    diffusions=[base_diffusion, upsampler_diffusion],\n",
    "    num_points=[1024, 4096 - 1024],\n",
    "    aux_channels=['R', 'G', 'B'],\n",
    "    guidance_scale=[3.0, 3.0],\n",
    ")"
   ]
  },
  {
   "cell_type": "code",
   "execution_count": null,
   "metadata": {},
   "outputs": [],
   "source": [
    "for image_name in tqdm(os.listdir(postprocessed_folder)):\n",
    "    img = Image.open(osp.join(postprocessed_folder, image_name))\n",
    "    samples = None\n",
    "    for x in tqdm(sampler.sample_batch_progressive(batch_size=1, model_kwargs=dict(images=[img]))):\n",
    "        samples = x\n",
    "        \n",
    "    pc = sampler.output_to_point_clouds(samples)[0]\n",
    "    fig = plot_point_cloud(pc, grid_size=3, dot_size=1, fixed_bounds=((-0.75, -0.75, -0.75), (0.75, 0.75, 0.75)))\n",
    "    plt.savefig(osp.join(pc_img_folder, image_name))\n",
    "    plt.close()\n",
    "    \n",
    "    pc_save = np.concatenate([pc.coords, pc.channels['R'][:,None], pc.channels['G'][:,None], pc.channels['B'][:,None]], axis=1)\n",
    "    np.save(osp.join(pc_npy_folder, f'{osp.splitext(image_name)[0]}.npy'), pc_save)"
   ]
  }
 ],
 "metadata": {
  "kernelspec": {
   "display_name": "Python 3.9.9 64-bit ('3.9.9')",
   "language": "python",
   "name": "python3"
  },
  "language_info": {
   "codemirror_mode": {
    "name": "ipython",
    "version": 3
   },
   "file_extension": ".py",
   "mimetype": "text/x-python",
   "name": "python",
   "nbconvert_exporter": "python",
   "pygments_lexer": "ipython3",
   "version": "3.8.19"
  },
  "orig_nbformat": 4,
  "vscode": {
   "interpreter": {
    "hash": "b270b0f43bc427bcab7703c037711644cc480aac7c1cc8d2940cfaf0b447ee2e"
   }
  }
 },
 "nbformat": 4,
 "nbformat_minor": 2
}
