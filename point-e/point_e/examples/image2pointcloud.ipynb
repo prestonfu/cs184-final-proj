{
 "cells": [
  {
   "cell_type": "code",
   "execution_count": 5,
   "metadata": {},
   "outputs": [],
   "source": [
    "import os\n",
    "import os.path as osp\n",
    "import subprocess\n",
    "\n",
    "from PIL import Image\n",
    "import torch\n",
    "from tqdm.auto import tqdm\n",
    "\n",
    "import numpy as np\n",
    "import pandas as pd\n",
    "import matplotlib.pyplot as plt\n",
    "from urllib.request import urlretrieve\n",
    "from urllib.error import HTTPError\n",
    "\n",
    "from point_e.diffusion.configs import DIFFUSION_CONFIGS, diffusion_from_config\n",
    "from point_e.diffusion.sampler import PointCloudSampler\n",
    "from point_e.models.download import load_checkpoint\n",
    "from point_e.models.configs import MODEL_CONFIGS, model_from_config\n",
    "from point_e.util.plotting import plot_point_cloud\n",
    "\n",
    "originals_folder = 'images/original'\n",
    "sd_folder = 'images/stable_diffusion'\n",
    "postprocessed_folder = 'images/postprocessed'\n",
    "os.makedirs(originals_folder, exist_ok=True)\n",
    "os.makedirs(postprocessed_folder, exist_ok=True)"
   ]
  },
  {
   "cell_type": "markdown",
   "metadata": {},
   "source": [
    "Collect images with url's I've manually collected"
   ]
  },
  {
   "cell_type": "code",
   "execution_count": 2,
   "metadata": {},
   "outputs": [
    {
     "data": {
      "application/vnd.jupyter.widget-view+json": {
       "model_id": "76b61565877446c78a902e2f37075482",
       "version_major": 2,
       "version_minor": 0
      },
      "text/plain": [
       "  0%|          | 0/38 [00:00<?, ?it/s]"
      ]
     },
     "metadata": {},
     "output_type": "display_data"
    },
    {
     "name": "stdout",
     "output_type": "stream",
     "text": [
      "Could not retrieve Goomba from https://mario.wiki.gallery/images/7/7d/SMBW_Goomba.png\n",
      "Could not retrieve Space Invader from https://png.pngtree.com/png-clipart/20230823/original/pngtree-space-invaders-character-game-play-picture-image_8233346.png\n",
      "Could not retrieve Taj Mahal from https://png.pngtree.com/background/20230621/original/pngtree-white-background-with-a-3d-glossy-taj-mahal-monument-picture-image_3893624.jpg\n"
     ]
    }
   ],
   "source": [
    "web_images = pd.read_csv('web_images.csv')\n",
    "\n",
    "for i, row in tqdm(list(web_images.iterrows())):\n",
    "    prompt, url = row['prompt'], row['url']\n",
    "    prompt = prompt.strip()\n",
    "    fname = os.path.join(originals_folder, f\"{prompt.lower().replace(' ', '_')}.png\")\n",
    "    if osp.exists(fname): continue\n",
    "    try:\n",
    "        urlretrieve(url, fname)\n",
    "    except HTTPError:\n",
    "        print(f'Could not retrieve {prompt} from {url}')"
   ]
  },
  {
   "cell_type": "markdown",
   "metadata": {},
   "source": [
    "Generate new images via stable diffusion"
   ]
  },
  {
   "cell_type": "code",
   "execution_count": 3,
   "metadata": {},
   "outputs": [],
   "source": [
    "# Now this is implemented in sd_inference.py\n",
    "\n",
    "# pipe = StableDiffusionPipeline.from_pretrained(\"stabilityai/stable-diffusion-2-1\").to(\"cuda:2\")\n",
    "# pipe.enable_attention_slicing()\n",
    "\n",
    "# with open('stable_diffusion_prompts.txt') as f:\n",
    "#     sd_prompts = [x.strip() for x in f.readlines()]\n",
    "\n",
    "# for prompt in tqdm(sd_prompts):\n",
    "# \tfname = os.path.join(sd_folder, f\"{prompt.lower().replace(' ', '_')}.png\")\n",
    "# \tif osp.exists(fname): continue\n",
    "# \twith autocast(\"cuda\"):\n",
    "# \t\timage = pipe(prompt).images[0]\n",
    "# \timage.save(fname)"
   ]
  },
  {
   "cell_type": "markdown",
   "metadata": {},
   "source": [
    "Preprocess images"
   ]
  },
  {
   "cell_type": "code",
   "execution_count": 14,
   "metadata": {},
   "outputs": [
    {
     "data": {
      "application/vnd.jupyter.widget-view+json": {
       "model_id": "45279fb6e7554869bdacba9a05db6447",
       "version_major": 2,
       "version_minor": 0
      },
      "text/plain": [
       "  0%|          | 0/131 [00:00<?, ?it/s]"
      ]
     },
     "metadata": {},
     "output_type": "display_data"
    }
   ],
   "source": [
    "all_images = [(originals_folder, x) for x in os.listdir(originals_folder)] + [(sd_folder, x) for x in os.listdir(sd_folder)]\n",
    "\n",
    "for folder, image_name in tqdm(all_images):\n",
    "    tmp_path = osp.join(postprocessed_folder, 'tmp_' + image_name)\n",
    "    final_path = osp.join(postprocessed_folder, image_name)\n",
    "    if osp.exists(final_path): continue\n",
    "    \n",
    "    # Recrop\n",
    "    image = Image.open(osp.join(folder, image_name))\n",
    "    width, height = image.size\n",
    "    square_size = int(1.2 * max(width, height))\n",
    "    new_image = Image.new(\"RGB\", (square_size, square_size), color=\"white\")\n",
    "\n",
    "    x = (square_size - width) // 2\n",
    "    y = (square_size - height) // 2\n",
    "    new_image.paste(image, (x, y))\n",
    "\n",
    "    # Make background transparent\n",
    "    resized_image = new_image.resize((256, 256), Image.LANCZOS)\n",
    "    resized_image.save(tmp_path)\n",
    "    result = subprocess.run(\n",
    "        ['backgroundremover', '-i', f'{tmp_path}', '-o', f'{final_path}'],\n",
    "        capture_output=True,\n",
    "        text=True\n",
    "    )\n",
    "    if result.stderr:\n",
    "        print(result.stderr)\n",
    "    \n",
    "    # Add back white background\n",
    "    image = Image.open(final_path)\n",
    "    background = Image.new(\"RGB\", image.size, (255, 255, 255))\n",
    "    background.paste(image, mask=image.split()[3])  # 3 is the alpha channel\n",
    "    background.save(final_path)\n",
    "    os.remove(tmp_path)"
   ]
  },
  {
   "cell_type": "markdown",
   "metadata": {},
   "source": [
    "Generate point clouds"
   ]
  },
  {
   "cell_type": "code",
   "execution_count": 15,
   "metadata": {},
   "outputs": [
    {
     "name": "stdout",
     "output_type": "stream",
     "text": [
      "creating base model...\n",
      "creating upsample model...\n",
      "downloading base checkpoint...\n",
      "downloading upsampler checkpoint...\n"
     ]
    }
   ],
   "source": [
    "device = torch.device('cuda:3' if torch.cuda.is_available() else 'cpu')\n",
    "\n",
    "print('creating base model...')\n",
    "base_name = 'base300M' # use base300M or base1B for better results\n",
    "base_model = model_from_config(MODEL_CONFIGS[base_name], device)\n",
    "base_model.eval()\n",
    "base_diffusion = diffusion_from_config(DIFFUSION_CONFIGS[base_name])\n",
    "\n",
    "print('creating upsample model...')\n",
    "upsampler_model = model_from_config(MODEL_CONFIGS['upsample'], device)\n",
    "upsampler_model.eval()\n",
    "upsampler_diffusion = diffusion_from_config(DIFFUSION_CONFIGS['upsample'])\n",
    "\n",
    "print('downloading base checkpoint...')\n",
    "base_model.load_state_dict(load_checkpoint(base_name, device))\n",
    "\n",
    "print('downloading upsampler checkpoint...')\n",
    "upsampler_model.load_state_dict(load_checkpoint('upsample', device))\n",
    "\n",
    "pc_img_folder = f'images/pc/{base_name}/img'\n",
    "pc_npy_folder = f'images/pc/{base_name}/npy'\n",
    "os.makedirs(pc_img_folder, exist_ok=True)\n",
    "os.makedirs(pc_npy_folder, exist_ok=True)"
   ]
  },
  {
   "cell_type": "code",
   "execution_count": 16,
   "metadata": {},
   "outputs": [],
   "source": [
    "sampler = PointCloudSampler(\n",
    "    device=device,\n",
    "    models=[base_model, upsampler_model],\n",
    "    diffusions=[base_diffusion, upsampler_diffusion],\n",
    "    num_points=[1024, 4096 - 1024],\n",
    "    aux_channels=['R', 'G', 'B'],\n",
    "    guidance_scale=[3.0, 3.0],\n",
    ")"
   ]
  },
  {
   "cell_type": "code",
   "execution_count": 17,
   "metadata": {},
   "outputs": [
    {
     "data": {
      "application/vnd.jupyter.widget-view+json": {
       "model_id": "7ac09ef369ee4a96b8835417574b530b",
       "version_major": 2,
       "version_minor": 0
      },
      "text/plain": [
       "  0%|          | 0/132 [00:00<?, ?it/s]"
      ]
     },
     "metadata": {},
     "output_type": "display_data"
    },
    {
     "data": {
      "application/vnd.jupyter.widget-view+json": {
       "model_id": "5470234c75604224a1aef9eabf873be3",
       "version_major": 2,
       "version_minor": 0
      },
      "text/plain": [
       "0it [00:00, ?it/s]"
      ]
     },
     "metadata": {},
     "output_type": "display_data"
    },
    {
     "data": {
      "application/vnd.jupyter.widget-view+json": {
       "model_id": "79bbbb14aa3e412e9025c6e7719464c9",
       "version_major": 2,
       "version_minor": 0
      },
      "text/plain": [
       "0it [00:00, ?it/s]"
      ]
     },
     "metadata": {},
     "output_type": "display_data"
    },
    {
     "data": {
      "application/vnd.jupyter.widget-view+json": {
       "model_id": "ff8dbaaa6e384455a9d1ed9641c9b0e5",
       "version_major": 2,
       "version_minor": 0
      },
      "text/plain": [
       "0it [00:00, ?it/s]"
      ]
     },
     "metadata": {},
     "output_type": "display_data"
    },
    {
     "data": {
      "application/vnd.jupyter.widget-view+json": {
       "model_id": "e26f1df140ca42ec83e791546cce4e47",
       "version_major": 2,
       "version_minor": 0
      },
      "text/plain": [
       "0it [00:00, ?it/s]"
      ]
     },
     "metadata": {},
     "output_type": "display_data"
    },
    {
     "data": {
      "application/vnd.jupyter.widget-view+json": {
       "model_id": "fd8acefb26f0467fbf06e57444c24378",
       "version_major": 2,
       "version_minor": 0
      },
      "text/plain": [
       "0it [00:00, ?it/s]"
      ]
     },
     "metadata": {},
     "output_type": "display_data"
    },
    {
     "data": {
      "application/vnd.jupyter.widget-view+json": {
       "model_id": "9a3da1d0e9374c65a9f9bd36baa850e8",
       "version_major": 2,
       "version_minor": 0
      },
      "text/plain": [
       "0it [00:00, ?it/s]"
      ]
     },
     "metadata": {},
     "output_type": "display_data"
    },
    {
     "data": {
      "application/vnd.jupyter.widget-view+json": {
       "model_id": "92d5d5ca4eda44669dd85fe8bf87d320",
       "version_major": 2,
       "version_minor": 0
      },
      "text/plain": [
       "0it [00:00, ?it/s]"
      ]
     },
     "metadata": {},
     "output_type": "display_data"
    },
    {
     "data": {
      "application/vnd.jupyter.widget-view+json": {
       "model_id": "f9d396fd658e458c9e33ebba257c22bb",
       "version_major": 2,
       "version_minor": 0
      },
      "text/plain": [
       "0it [00:00, ?it/s]"
      ]
     },
     "metadata": {},
     "output_type": "display_data"
    },
    {
     "data": {
      "application/vnd.jupyter.widget-view+json": {
       "model_id": "14b30dfcbbaf4df9bd3670552421148a",
       "version_major": 2,
       "version_minor": 0
      },
      "text/plain": [
       "0it [00:00, ?it/s]"
      ]
     },
     "metadata": {},
     "output_type": "display_data"
    },
    {
     "data": {
      "application/vnd.jupyter.widget-view+json": {
       "model_id": "87b1c4b50fc74e2a925e6033b98112dc",
       "version_major": 2,
       "version_minor": 0
      },
      "text/plain": [
       "0it [00:00, ?it/s]"
      ]
     },
     "metadata": {},
     "output_type": "display_data"
    },
    {
     "data": {
      "application/vnd.jupyter.widget-view+json": {
       "model_id": "f0d7fba08c204a64b45af38d05071361",
       "version_major": 2,
       "version_minor": 0
      },
      "text/plain": [
       "0it [00:00, ?it/s]"
      ]
     },
     "metadata": {},
     "output_type": "display_data"
    },
    {
     "data": {
      "application/vnd.jupyter.widget-view+json": {
       "model_id": "4d0ed4ada77b436b9219d30b1f709c39",
       "version_major": 2,
       "version_minor": 0
      },
      "text/plain": [
       "0it [00:00, ?it/s]"
      ]
     },
     "metadata": {},
     "output_type": "display_data"
    },
    {
     "data": {
      "application/vnd.jupyter.widget-view+json": {
       "model_id": "bb479c9a28fa4259b120397a381211a4",
       "version_major": 2,
       "version_minor": 0
      },
      "text/plain": [
       "0it [00:00, ?it/s]"
      ]
     },
     "metadata": {},
     "output_type": "display_data"
    },
    {
     "data": {
      "application/vnd.jupyter.widget-view+json": {
       "model_id": "ee69453be48f4949a2d0e77d393ec647",
       "version_major": 2,
       "version_minor": 0
      },
      "text/plain": [
       "0it [00:00, ?it/s]"
      ]
     },
     "metadata": {},
     "output_type": "display_data"
    },
    {
     "data": {
      "application/vnd.jupyter.widget-view+json": {
       "model_id": "30eb71fcf5014868b4df248bbac50479",
       "version_major": 2,
       "version_minor": 0
      },
      "text/plain": [
       "0it [00:00, ?it/s]"
      ]
     },
     "metadata": {},
     "output_type": "display_data"
    },
    {
     "data": {
      "application/vnd.jupyter.widget-view+json": {
       "model_id": "721c985a5c7f45fdbd456dc080307425",
       "version_major": 2,
       "version_minor": 0
      },
      "text/plain": [
       "0it [00:00, ?it/s]"
      ]
     },
     "metadata": {},
     "output_type": "display_data"
    },
    {
     "data": {
      "application/vnd.jupyter.widget-view+json": {
       "model_id": "9c05d7e8aeaa45b1837cd444bd29e166",
       "version_major": 2,
       "version_minor": 0
      },
      "text/plain": [
       "0it [00:00, ?it/s]"
      ]
     },
     "metadata": {},
     "output_type": "display_data"
    }
   ],
   "source": [
    "for image_name in tqdm(os.listdir(postprocessed_folder)):\n",
    "    img = Image.open(osp.join(postprocessed_folder, image_name))\n",
    "    samples = None\n",
    "    for x in tqdm(sampler.sample_batch_progressive(batch_size=1, model_kwargs=dict(images=[img]))):\n",
    "        samples = x\n",
    "        \n",
    "    pc = sampler.output_to_point_clouds(samples)[0]\n",
    "    fig = plot_point_cloud(pc, grid_size=3, dot_size=0.1, fixed_bounds=((-0.75, -0.75, -0.75), (0.75, 0.75, 0.75)))\n",
    "    plt.savefig(osp.join(pc_img_folder, image_name))\n",
    "    plt.close()\n",
    "    \n",
    "    pc_save = np.concatenate([pc.coords, pc.channels['R'][:,None], pc.channels['G'][:,None], pc.channels['B'][:,None]], axis=1)\n",
    "    np.save(osp.join(pc_npy_folder, f'{osp.splitext(image_name)[0]}'), pc_save)"
   ]
  }
 ],
 "metadata": {
  "kernelspec": {
   "display_name": "Python 3.9.9 64-bit ('3.9.9')",
   "language": "python",
   "name": "python3"
  },
  "language_info": {
   "codemirror_mode": {
    "name": "ipython",
    "version": 3
   },
   "file_extension": ".py",
   "mimetype": "text/x-python",
   "name": "python",
   "nbconvert_exporter": "python",
   "pygments_lexer": "ipython3",
   "version": "3.8.19"
  },
  "orig_nbformat": 4,
  "vscode": {
   "interpreter": {
    "hash": "b270b0f43bc427bcab7703c037711644cc480aac7c1cc8d2940cfaf0b447ee2e"
   }
  }
 },
 "nbformat": 4,
 "nbformat_minor": 2
}
